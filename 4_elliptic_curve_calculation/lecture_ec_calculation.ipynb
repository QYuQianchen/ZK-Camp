{
 "cells": [
  {
   "cell_type": "code",
   "execution_count": null,
   "metadata": {},
   "outputs": [],
   "source": [
    "!python -m pip install py_ecc"
   ]
  },
  {
   "cell_type": "code",
   "execution_count": 2,
   "metadata": {},
   "outputs": [
    {
     "data": {
      "text/plain": [
       "(1, 2)"
      ]
     },
     "execution_count": 2,
     "metadata": {},
     "output_type": "execute_result"
    }
   ],
   "source": [
    "from py_ecc.bn128 import G1, multiply, add, neg, Z1, curve_order\n",
    "# Elliptic curve formula of bn128: y ^ 2 = x ^ 3 % p\n",
    "\n",
    "G1"
   ]
  },
  {
   "cell_type": "code",
   "execution_count": 3,
   "metadata": {},
   "outputs": [
    {
     "name": "stdout",
     "output_type": "stream",
     "text": [
      "(1368015179489954701390400359078579693043519447331113978918064868415326638035, 9918110051302171585080402603319702774565515993150576347155970296011118125764)\n"
     ]
    }
   ],
   "source": [
    "P = add(G1, G1)\n",
    "print(P)\n",
    "assert P == multiply(G1, 2)"
   ]
  },
  {
   "cell_type": "code",
   "execution_count": 4,
   "metadata": {},
   "outputs": [],
   "source": [
    "assert add(G1, P) == multiply(G1, 3)"
   ]
  },
  {
   "cell_type": "code",
   "execution_count": 5,
   "metadata": {},
   "outputs": [
    {
     "data": {
      "text/plain": [
       "True"
      ]
     },
     "execution_count": 5,
     "metadata": {},
     "output_type": "execute_result"
    }
   ],
   "source": [
    "P = multiply(G1, 7)\n",
    "Q = multiply(G1, 8)\n",
    "add(P, Q) == multiply(G1, 15)"
   ]
  },
  {
   "cell_type": "code",
   "execution_count": 6,
   "metadata": {},
   "outputs": [],
   "source": [
    "# Negative of G1 is the filp of G1 with the same x value\n",
    "G1_x = G1[0]\n",
    "negG1_x = neg(G1)[0]\n",
    "assert G1_x == negG1_x"
   ]
  },
  {
   "cell_type": "code",
   "execution_count": 7,
   "metadata": {},
   "outputs": [
    {
     "data": {
      "text/plain": [
       "True"
      ]
     },
     "execution_count": 7,
     "metadata": {},
     "output_type": "execute_result"
    }
   ],
   "source": [
    "# Adding G1 and -G1 should be None because the library uses None to signify the identity element\n",
    "add(G1, neg(G1)) is None"
   ]
  },
  {
   "cell_type": "code",
   "execution_count": 8,
   "metadata": {},
   "outputs": [
    {
     "data": {
      "text/plain": [
       "True"
      ]
     },
     "execution_count": 8,
     "metadata": {},
     "output_type": "execute_result"
    }
   ],
   "source": [
    "add(G1, neg(G1)) is Z1 # Z1 is the identity element, is None"
   ]
  },
  {
   "cell_type": "code",
   "execution_count": 9,
   "metadata": {},
   "outputs": [
    {
     "name": "stdout",
     "output_type": "stream",
     "text": [
      "(10744596414106452074759370245733544594153395043370666422502510773307029471145, 848677436511517736191562425154572367705380862894644942948681172815252343932)\n"
     ]
    }
   ],
   "source": [
    "# add with curve_order\n",
    "P = multiply(G1, 5)\n",
    "Q = multiply(G1, 5 + curve_order)\n",
    "print(P)\n",
    "assert P == Q"
   ]
  },
  {
   "cell_type": "code",
   "execution_count": 10,
   "metadata": {},
   "outputs": [
    {
     "name": "stdout",
     "output_type": "stream",
     "text": [
      "(10744596414106452074759370245733544594153395043370666422502510773307029471145, 21039565435327757486054843320102702720990930294403178719740356721829973864651)\n"
     ]
    }
   ],
   "source": [
    "# negate with curve_order\n",
    "P = neg(multiply(G1, 5))\n",
    "Q = multiply(G1, curve_order - 5)\n",
    "print(P)\n",
    "assert P == Q "
   ]
  },
  {
   "cell_type": "code",
   "execution_count": 11,
   "metadata": {},
   "outputs": [
    {
     "name": "stdout",
     "output_type": "stream",
     "text": [
      "(10296210423881459776936787717049993391325552021605413991699412493845789633013, 16532533273964472383651167452754510965928658867757334670578445799571582196663)\n"
     ]
    }
   ],
   "source": [
    "# one-half G\n",
    "one_half_G = multiply(G1, pow(2, -1, curve_order))\n",
    "print(one_half_G)\n",
    "assert add(one_half_G, one_half_G) == G1"
   ]
  },
  {
   "cell_type": "code",
   "execution_count": 12,
   "metadata": {},
   "outputs": [
    {
     "name": "stdout",
     "output_type": "stream",
     "text": [
      "(21879381081117221938049089428537290550057199332150484641616652718860113082002, 9889796057169479579280645685123908321455175044358436555030685051893591124853)\n"
     ]
    }
   ],
   "source": [
    "# one-fifth G\n",
    "one_fifth_G = multiply(G1, pow(5, -1, curve_order))\n",
    "print(one_fifth_G)\n",
    "assert multiply(one_fifth_G, 5) == G1"
   ]
  },
  {
   "cell_type": "code",
   "execution_count": 14,
   "metadata": {},
   "outputs": [],
   "source": [
    "# one-third G\n",
    "one_third_G = multiply(G1, pow(3, -1, curve_order))\n",
    "add_result = add(one_third_G, one_fifth_G)\n",
    "assert add_result == multiply(multiply(G1, pow(15, -1, curve_order)), 8)"
   ]
  },
  {
   "cell_type": "code",
   "execution_count": 16,
   "metadata": {},
   "outputs": [
    {
     "name": "stdout",
     "output_type": "stream",
     "text": [
      "11\n",
      "11\n"
     ]
    }
   ],
   "source": [
    "import numpy as np\n",
    "print(np.inner([1, 2], [3, 4]))\n",
    "print(1 * 3 + 2 * 4)"
   ]
  }
 ],
 "metadata": {
  "kernelspec": {
   "display_name": ".venv",
   "language": "python",
   "name": "python3"
  },
  "language_info": {
   "codemirror_mode": {
    "name": "ipython",
    "version": 3
   },
   "file_extension": ".py",
   "mimetype": "text/x-python",
   "name": "python",
   "nbconvert_exporter": "python",
   "pygments_lexer": "ipython3",
   "version": "3.12.4"
  }
 },
 "nbformat": 4,
 "nbformat_minor": 2
}
