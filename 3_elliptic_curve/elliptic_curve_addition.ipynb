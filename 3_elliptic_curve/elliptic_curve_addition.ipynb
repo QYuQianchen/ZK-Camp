{
 "cells": [
  {
   "cell_type": "markdown",
   "metadata": {},
   "source": [
    "# Elliptic Curve Point Addition\n",
    "\n",
    "Elliptic curve formula:\n",
    "$y ^ 2 = x ^ 3 + ax + b$"
   ]
  },
  {
   "cell_type": "code",
   "execution_count": null,
   "metadata": {},
   "outputs": [],
   "source": [
    "!python -m pip install ecpy\n",
    "!python -m pip install pycryptodome"
   ]
  }
 ],
 "metadata": {
  "language_info": {
   "name": "python"
  }
 },
 "nbformat": 4,
 "nbformat_minor": 2
}
