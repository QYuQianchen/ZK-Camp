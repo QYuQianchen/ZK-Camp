{
 "cells": [
  {
   "cell_type": "markdown",
   "metadata": {},
   "source": [
    "# Homework 1\n",
    "\n",
    "For all problems below, assume the finite field is p = 71.\n",
    "**Remember, this is done in a finite field so your answer should only contain numbers [0-70] inclusive. There should be no fractions or negative numbers.**"
   ]
  },
  {
   "cell_type": "code",
   "execution_count": null,
   "metadata": {},
   "outputs": [],
   "source": [
    "!python -m pip install galois"
   ]
  },
  {
   "cell_type": "markdown",
   "metadata": {},
   "source": [
    "## Problem 1\n",
    "\n",
    "Find the elements in a finite field that are congruent to the following values:\n",
    "\n",
    "- -1\n",
    "- -4\n",
    "- -160\n",
    "- 500"
   ]
  },
  {
   "cell_type": "code",
   "execution_count": 2,
   "metadata": {},
   "outputs": [
    {
     "name": "stdout",
     "output_type": "stream",
     "text": [
      "-1 in GF(71) is 70\n",
      "-4 in GF(71) is 67\n",
      "-160 in GF(71) is 18\n",
      "500 in GF(71) is 3\n"
     ]
    }
   ],
   "source": [
    "import galois\n",
    "\n",
    "# Define the field\n",
    "GF71 = galois.GF(71)\n",
    "\n",
    "a = GF71(1) * -1\n",
    "print(\"-1 in GF(71) is\", a)\n",
    "b = GF71(4) * -1\n",
    "print(\"-4 in GF(71) is\", b)\n",
    "c = GF71(40) * 4\n",
    "print(\"-160 in GF(71) is\", c)\n",
    "d = GF71(25) * 20\n",
    "print(\"500 in GF(71) is\", d)"
   ]
  },
  {
   "cell_type": "markdown",
   "metadata": {},
   "source": [
    "## Problem 2\n",
    "\n",
    "Find the elements that are congruent to a = 5/6, b = 11/12, and c = 21/12\n",
    "\n",
    "Verify your answer by checking that a + b = c (in the finite field)"
   ]
  },
  {
   "cell_type": "code",
   "execution_count": 3,
   "metadata": {},
   "outputs": [
    {
     "name": "stdout",
     "output_type": "stream",
     "text": [
      "5/6 in GF(71) is 60\n",
      "11/12 in GF(71) is 66\n",
      "21/12 in GF(71) is 55\n"
     ]
    }
   ],
   "source": [
    "# Define the field\n",
    "GF71 = galois.GF(71)\n",
    "\n",
    "a = GF71(5) * (GF71(6) ** -1)\n",
    "print(\"5/6 in GF(71) is\", a)\n",
    "\n",
    "b = GF71(11) * (GF71(12) ** -1)\n",
    "print(\"11/12 in GF(71) is\", b)\n",
    "\n",
    "c = GF71(21) * (GF71(12) ** -1)\n",
    "print(\"21/12 in GF(71) is\", c)\n",
    "\n",
    "assert a + b == c"
   ]
  },
  {
   "cell_type": "markdown",
   "metadata": {},
   "source": [
    "\n",
    "## Problem 3\n",
    "\n",
    "Find the elements that are congruent to a = 2/3, b = 1/2, and c = 1/3.\n",
    "\n",
    "Verify your answer by checking that a * b = c (in the finite field)"
   ]
  },
  {
   "cell_type": "code",
   "execution_count": 4,
   "metadata": {},
   "outputs": [
    {
     "name": "stdout",
     "output_type": "stream",
     "text": [
      "2/3 in GF(71) is 48\n",
      "1/2 in GF(71) is 36\n",
      "1/3 in GF(71) is 24\n"
     ]
    }
   ],
   "source": [
    "# define the field\n",
    "GF71 = galois.GF(71)\n",
    "\n",
    "# 2/3 in GF(71)\n",
    "a = GF71(2) * GF71(3) ** -1\n",
    "print(\"2/3 in GF(71) is\", a)\n",
    "\n",
    "# 1/2 in GF(71)\n",
    "b = GF71(1) * GF71(2) ** -1\n",
    "print(\"1/2 in GF(71) is\", b)\n",
    "\n",
    "# 1/3 in GF(71)\n",
    "c = GF71(1) * GF71(3) ** -1\n",
    "print(\"1/3 in GF(71) is\", c)\n",
    "\n",
    "# 2/3 * 1/2 = 1/3\n",
    "assert a * b == c"
   ]
  },
  {
   "cell_type": "markdown",
   "metadata": {},
   "source": [
    "## Problem 4\n",
    "\n",
    "What is the modular square root of 56?\n",
    "\n",
    "Verify your answer by checking that x * x = 56 (mod 71)"
   ]
  },
  {
   "cell_type": "code",
   "execution_count": 5,
   "metadata": {},
   "outputs": [
    {
     "name": "stdout",
     "output_type": "stream",
     "text": [
      "constructed polynominal x^2 + 15\n",
      "modular square root of 56 in GF(71) are []\n"
     ]
    }
   ],
   "source": [
    "# define the field\n",
    "GF71 = galois.GF(71)\n",
    "\n",
    "# modular square root of 56 in GF(71) => x^2 - 56 = 0\n",
    "p = galois.Poly([1, 0, -56], field=GF71)\n",
    "print(\"constructed polynominal\", p)\n",
    "roots = p.roots()\n",
    "print(\"modular square root of 56 in GF(71) are\", roots)\n",
    "\n",
    "for a_root in roots:\n",
    "    assert a_root * a_root == 56"
   ]
  },
  {
   "cell_type": "markdown",
   "metadata": {},
   "source": [
    "## Problem 5\n",
    "\n",
    "The inverse of a 2 x 2 matrix A is\n",
    "\n",
    "$$A^{-1}=\\frac{1}{\\text{det}}\\begin{bmatrix}d & -b\\\\-c & a\\end{bmatrix}$$\n",
    "where A is\n",
    "\n",
    "$$\n",
    "A = \\begin{bmatrix}a & b\\\\c & d\\end{bmatrix}\n",
    "$$\n",
    "\n",
    "And the determinant det is\n",
    "\n",
    "$$\n",
    "\\text{det}=a \\times d-b\\times c\n",
    "$$\n",
    "\n",
    "Compute the inverse of the following matrix:\n",
    "\n",
    "$$\n",
    "\\begin{bmatrix}1 & 1\\\\1 & 4\\end{bmatrix}\n",
    "$$\n",
    "\n",
    "Verify your answer by checking that\n",
    "\n",
    "$$\n",
    "AA^{-1}=I\n",
    "$$\n",
    "\n",
    "Where I is the identity matrix."
   ]
  },
  {
   "cell_type": "code",
   "execution_count": 6,
   "metadata": {},
   "outputs": [
    {
     "name": "stdout",
     "output_type": "stream",
     "text": [
      "original matrix is [[1 1]\n",
      " [1 4]]\n",
      "determinant of the matrix is 3\n",
      "inverse of the matrix is {} [[25 47]\n",
      " [47 24]]\n"
     ]
    }
   ],
   "source": [
    "import numpy as np\n",
    "# define the field\n",
    "GF71 = galois.GF(71)\n",
    "\n",
    "# original matrix\n",
    "a = GF71([[1, 1], [1, 4]])\n",
    "print(\"original matrix is\", a)\n",
    "\n",
    "# compute the determinant of the matrix\n",
    "det = np.linalg.det(a)\n",
    "assert det == 1 * 4 - 1 * 1\n",
    "print(\"determinant of the matrix is\", det)\n",
    "\n",
    "# compute the inverse of the matrix\n",
    "a_inv = np.linalg.inv(a)\n",
    "a_inv_manual = det ** -1 * GF71([[4, 70], [70, 1]])\n",
    "assert np.array_equal(a_inv, a_inv_manual)\n",
    "print(\"inverse of the matrix is {}\", a_inv)\n",
    "\n",
    "# verify the inverse\n",
    "expected_identity = a_inv @ a\n",
    "assert np.array_equal(expected_identity, GF71([[1, 0], [0, 1]]))"
   ]
  },
  {
   "cell_type": "markdown",
   "metadata": {},
   "source": [
    "## Problem 6\n",
    "\n",
    "Suppose we have the following polynomials:\n",
    "\n",
    "$$\n",
    "p(x)=52x^2+24x+61\\\\q(x)=40x^2+40x+58\n",
    "$$\n",
    "\n",
    "What is p(x) + q(x)? What is p(x) * q(x)?\n",
    "\n",
    "Use the `galois` library in python to find the roots of p(x) and q(x).\n",
    "\n",
    "What are the roots of p(x)q(x)?"
   ]
  },
  {
   "cell_type": "code",
   "execution_count": 7,
   "metadata": {},
   "outputs": [
    {
     "name": "stdout",
     "output_type": "stream",
     "text": [
      "p + q is 21x^2 + 64x + 48\n",
      "p * q is 21x^4 + 58x^3 + 26x^2 + 69x + 59\n",
      "roots of p are [34 42]\n",
      "roots of q are []\n",
      "roots of p * q are [34 42]\n"
     ]
    }
   ],
   "source": [
    "# define the field\n",
    "GF71 = galois.GF(71)\n",
    "\n",
    "# define polynominals\n",
    "p = galois.Poly([52, 24, 61], field=GF71)\n",
    "q = galois.Poly([40, 40, 58], field=GF71)\n",
    "\n",
    "addition = p + q\n",
    "print(\"p + q is\", addition)\n",
    "\n",
    "multiplication = p * q\n",
    "print(\"p * q is\", multiplication)\n",
    "\n",
    "# calculate roots\n",
    "p_roots = p.roots()\n",
    "print(\"roots of p are\", p_roots)\n",
    "q_roots = q.roots()\n",
    "print(\"roots of q are\", q_roots)\n",
    "\n",
    "# verify multipllication's roots are the union of p and q's roots\n",
    "m_roots = multiplication.roots()\n",
    "print(\"roots of p * q are\", m_roots)\n",
    "assert (np.union1d(p_roots, q_roots) == m_roots).all()"
   ]
  },
  {
   "cell_type": "markdown",
   "metadata": {},
   "source": [
    "## Problem 7\n",
    "\n",
    "Find a polynomial f(x) that crosses the points (10, 15), (23, 29).\n",
    "\n",
    "Since these are two points, the polynomial will be of degree 1 and be the equation for a line (y = ax + b).\n",
    "\n",
    "Verify your answer by checking that f(10) = 15 and f(23) = 29."
   ]
  },
  {
   "cell_type": "code",
   "execution_count": 8,
   "metadata": {},
   "outputs": [
    {
     "name": "stdout",
     "output_type": "stream",
     "text": [
      "a and b are [12 37]\n"
     ]
    }
   ],
   "source": [
    "# define the field\n",
    "GF71 = galois.GF(71)\n",
    "\n",
    "# a polynomial y = ax + b in GF(71) that croosses (10, 15) and (23, 29)\n",
    "# (10 * a + b) % p = 15\n",
    "# (23 * a + b) % p = 29\n",
    "\n",
    "# construct the matrix for Ax = B\n",
    "A = GF71([[10, 1], [23, 1]])\n",
    "B = GF71([15, 29])\n",
    "\n",
    "# solve for x\n",
    "x = np.linalg.solve(A, B)\n",
    "print(\"a and b are\", x)\n",
    "\n",
    "# verify the solution\n",
    "p = galois.Poly([x[0], x[1]], field=GF71)\n",
    "assert p(10) == 15\n",
    "assert p(23) == 29"
   ]
  },
  {
   "cell_type": "code",
   "execution_count": 9,
   "metadata": {},
   "outputs": [
    {
     "name": "stdout",
     "output_type": "stream",
     "text": [
      "f is 12x + 37\n"
     ]
    }
   ],
   "source": [
    "# coming back from problem 8 and trying to solve it with langrange interpolation\n",
    "# define the field\n",
    "GF71 = galois.GF(71)\n",
    "\n",
    "# a polynomial y = ax + b in GF(71) that croosses (10, 15) and (23, 29)\n",
    "x = GF71([10, 23])\n",
    "y = GF71([15, 29])\n",
    "\n",
    "f = galois.lagrange_poly(x, y)\n",
    "print(\"f is\", f)\n",
    "\n",
    "# verify the solution\n",
    "assert f(10) == 15\n",
    "assert f(23) == 29"
   ]
  },
  {
   "cell_type": "markdown",
   "metadata": {},
   "source": [
    "## Problem 8\n",
    "\n",
    "What is Lagrange interpolation and what does it do?\n",
    "\n",
    "Find a polynomial in GF11 that crosses through the points (0, 1), (1, 2), (2, 1).\n",
    "\n",
    "Use this Stackoverflow answer as a starting point: https://stackoverflow.com/a/73434775"
   ]
  },
  {
   "cell_type": "markdown",
   "metadata": {},
   "source": [
    "Lagrange interpolation is to find a polynominal with the lowest degree that across a given set of points $(a_1, f(a_1))$, $(a_2, f(a_2))$, ..., $(a_n, f(a_n))$\n",
    "\n",
    "$$P(x) = \\sum_{i=0}^n (f(a_i) \\prod_{j\\neq i,j=0}^n \\frac{x-a_j}{a_i-a_j} )$$"
   ]
  },
  {
   "cell_type": "code",
   "execution_count": 10,
   "metadata": {},
   "outputs": [
    {
     "name": "stdout",
     "output_type": "stream",
     "text": [
      "f is 10x^2 + 2x + 1\n"
     ]
    }
   ],
   "source": [
    "# define the field where p = 11\n",
    "GF11 = galois.GF(11)\n",
    "\n",
    "# a polynominal y = ax^2 + bx + c in GF(11) that crosses (0, 1), (1, 2), (2, 1)\n",
    "x = GF11([0, 1, 2])\n",
    "y = GF11([1, 2, 1])\n",
    "\n",
    "f = galois.lagrange_poly(x, y)\n",
    "print(\"f is\", f)\n",
    "\n",
    "# verify the solution\n",
    "assert f(0) == 1\n",
    "assert f(1) == 2\n",
    "assert f(2) == 1"
   ]
  },
  {
   "cell_type": "code",
   "execution_count": 11,
   "metadata": {},
   "outputs": [
    {
     "name": "stdout",
     "output_type": "stream",
     "text": [
      "f is 70x^2 + 2x + 1\n"
     ]
    }
   ],
   "source": [
    "# what if it's in the field of 71\n",
    "# define the field where p = 11\n",
    "GF71 = galois.GF(71)\n",
    "\n",
    "# a polynominal y = ax^2 + bx + c in GF(11) that crosses (0, 1), (1, 2), (2, 1)\n",
    "x = GF71([0, 1, 2])\n",
    "y = GF71([1, 2, 1])\n",
    "\n",
    "f = galois.lagrange_poly(x, y)\n",
    "print(\"f is\", f)\n",
    "\n",
    "# verify the solution\n",
    "assert f(0) == 1\n",
    "assert f(1) == 2\n",
    "assert f(2) == 1"
   ]
  }
 ],
 "metadata": {
  "kernelspec": {
   "display_name": ".venv",
   "language": "python",
   "name": "python3"
  },
  "language_info": {
   "codemirror_mode": {
    "name": "ipython",
    "version": 3
   },
   "file_extension": ".py",
   "mimetype": "text/x-python",
   "name": "python",
   "nbconvert_exporter": "python",
   "pygments_lexer": "ipython3",
   "version": "3.12.4"
  }
 },
 "nbformat": 4,
 "nbformat_minor": 2
}
