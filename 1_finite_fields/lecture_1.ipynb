{
 "cells": [
  {
   "cell_type": "code",
   "execution_count": null,
   "metadata": {},
   "outputs": [],
   "source": [
    "!python -m pip install galois"
   ]
  },
  {
   "cell_type": "markdown",
   "metadata": {},
   "source": [
    "### Finite field arithmetic "
   ]
  },
  {
   "cell_type": "code",
   "execution_count": 2,
   "metadata": {},
   "outputs": [
    {
     "name": "stdout",
     "output_type": "stream",
     "text": [
      "1/56 * 7/10 + 1/2 over F_103 congruent to 46 * 11 + 52 = 43\n",
      "287/560 over F_103 congruent to 43\n"
     ]
    }
   ],
   "source": [
    "p = 103\n",
    "# Proof 1/56 * 7/10 + 1/2 = 287/560 over F_103\n",
    "\n",
    "a = pow(56, -1, p)\n",
    "b = (7 * pow(10, -1, p)) % p\n",
    "c = (1 * pow(2, -1, p)) % p\n",
    "d = (a * b + c) % p\n",
    "print(\"1/56 * 7/10 + 1/2 over F_103 congruent to {} * {} + {} = {}\".format(a, b, c, d))\n",
    "\n",
    "e = (287 * pow(560, -1, p)) % p\n",
    "print(\"287/560 over F_103 congruent to {}\".format(e))\n",
    "      \n",
    "assert d == e"
   ]
  },
  {
   "cell_type": "markdown",
   "metadata": {},
   "source": [
    "### mapping to a finite field"
   ]
  },
  {
   "cell_type": "code",
   "execution_count": 3,
   "metadata": {},
   "outputs": [
    {
     "name": "stdout",
     "output_type": "stream",
     "text": [
      "0 ^2 mod 11 = 0\n",
      "1 ^2 mod 11 = 1\n",
      "2 ^2 mod 11 = 4\n",
      "3 ^2 mod 11 = 9\n",
      "4 ^2 mod 11 = 5\n",
      "5 ^2 mod 11 = 3\n",
      "6 ^2 mod 11 = 3\n",
      "7 ^2 mod 11 = 5\n",
      "8 ^2 mod 11 = 9\n",
      "9 ^2 mod 11 = 4\n",
      "10 ^2 mod 11 = 1\n"
     ]
    }
   ],
   "source": [
    "# mapping f(x) = x^2 to F_p\n",
    "p = 11\n",
    "\n",
    "my_set = set()\n",
    "for i in range(0, p):\n",
    "    mod_result = i * i % p\n",
    "    my_set.add(mod_result)\n",
    "    print(\"{} ^2 mod {} = {}\".format(i, p, mod_result))"
   ]
  },
  {
   "cell_type": "code",
   "execution_count": 4,
   "metadata": {},
   "outputs": [
    {
     "name": "stdout",
     "output_type": "stream",
     "text": [
      "6 + 7 = 2\n",
      "6 * 7 = 9\n"
     ]
    }
   ],
   "source": [
    "import galois\n",
    "\n",
    "# Create a Galois field with 11 elements\n",
    "GF11 = galois.GF(11)\n",
    "a = GF11(6)\n",
    "b = GF11(7)\n",
    "\n",
    "print(\"{} + {} = {}\".format(a, b, a + b))\n",
    "print(\"{} * {} = {}\".format(a, b, a * b))\n",
    "assert a + b == GF11(2)\n",
    "assert a * b == GF11(9)"
   ]
  },
  {
   "cell_type": "markdown",
   "metadata": {},
   "source": [
    "### Fractions in galois field (of 11)"
   ]
  },
  {
   "cell_type": "code",
   "execution_count": 5,
   "metadata": {},
   "outputs": [
    {
     "name": "stdout",
     "output_type": "stream",
     "text": [
      "1/2 in GF11 is 6. 2 * 6 = 1\n",
      "5/6 in GF11 is 10. 5 * 10 = 6\n"
     ]
    }
   ],
   "source": [
    "GF11 = galois.GF(11)\n",
    "\n",
    "# 1/2\n",
    "a = GF11(2)\n",
    "b = a ** -1\n",
    "print(\"1/2 in GF11 is {}. {} * {} = {}\".format(b, a, b, a * b))\n",
    "\n",
    "# 5/6\n",
    "c = GF11(5)\n",
    "d = GF11(6)\n",
    "e = c * d ** -1\n",
    "print(\"5/6 in GF11 is {}. {} * {} = {}\".format(e, c, e, c * e))"
   ]
  },
  {
   "cell_type": "markdown",
   "metadata": {
    "notebookRunGroups": {
     "groupValue": "2"
    }
   },
   "source": [
    "### Polynomials in a finite field"
   ]
  },
  {
   "cell_type": "code",
   "execution_count": 6,
   "metadata": {},
   "outputs": [
    {
     "name": "stdout",
     "output_type": "stream",
     "text": [
      "3x^2 + 2x + 1\n",
      "6x^2 + 4x + 2\n",
      "[6 8]\n",
      "3x^3 + 5x^2 + 3x + 1\n",
      "[ 6  8 10]\n",
      "3x^2 + x + 9\n",
      "[ 8 10]\n"
     ]
    }
   ],
   "source": [
    "# Polynomial\n",
    "GF11 = galois.GF(11)\n",
    "\n",
    "# 3x^2 + 2x + 1\n",
    "a = galois.Poly([3, 2, 1], field=GF11)\n",
    "print(a)\n",
    "\n",
    "# times 2\n",
    "b = a * GF11(2)\n",
    "print(b)\n",
    "\n",
    "# compute roots\n",
    "roots = a.roots()\n",
    "print(roots)\n",
    "\n",
    "# multiply polinomials\n",
    "c = a * galois.Poly([1, 1], field=GF11)\n",
    "print(c)\n",
    "print(c.roots())\n",
    "\n",
    "# symbolic division\n",
    "d = c // galois.Poly([1, -6], field=GF11)\n",
    "print(d)\n",
    "print(d.roots())"
   ]
  }
 ],
 "metadata": {
  "kernelspec": {
   "display_name": ".venv",
   "language": "python",
   "name": "python3"
  },
  "language_info": {
   "codemirror_mode": {
    "name": "ipython",
    "version": 3
   },
   "file_extension": ".py",
   "mimetype": "text/x-python",
   "name": "python",
   "nbconvert_exporter": "python",
   "pygments_lexer": "ipython3",
   "version": "3.12.4"
  }
 },
 "nbformat": 4,
 "nbformat_minor": 2
}
